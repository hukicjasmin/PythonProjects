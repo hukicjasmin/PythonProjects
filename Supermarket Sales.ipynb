{
 "cells": [
  {
   "cell_type": "code",
   "execution_count": 38,
   "metadata": {},
   "outputs": [],
   "source": [
    "# This data analysis project includes reports, statistical analysis, and ad-hoc analysis. \n",
    "# I used supermarket sales dataset that is publicly available on Kaggle:\n",
    "# https://www.kaggle.com/datasets/aungpyaeap/supermarket-sales"
   ]
  },
  {
   "cell_type": "code",
   "execution_count": 39,
   "metadata": {},
   "outputs": [],
   "source": [
    "# Import necessary libraries\n",
    "\n",
    "import pandas as pd\n",
    "import seaborn as sns \n",
    "import matplotlib.pyplot as plt\n",
    "import numpy as np\n",
    "from scipy import stats \n",
    "from scipy.stats import f_oneway"
   ]
  },
  {
   "cell_type": "code",
   "execution_count": 40,
   "metadata": {},
   "outputs": [
    {
     "name": "stdout",
     "output_type": "stream",
     "text": [
      "    Invoice ID Branch       City Customer type  Gender  \\\n",
      "0  750-67-8428      A     Yangon        Member  Female   \n",
      "1  226-31-3081      C  Naypyitaw        Normal  Female   \n",
      "2  631-41-3108      A     Yangon        Normal    Male   \n",
      "3  123-19-1176      A     Yangon        Member    Male   \n",
      "4  373-73-7910      A     Yangon        Normal    Male   \n",
      "\n",
      "             Product line  Unit price  Quantity   Tax 5%     Total       Date  \\\n",
      "0       Health and beauty       74.69         7  26.1415  548.9715   1/5/2019   \n",
      "1  Electronic accessories       15.28         5   3.8200   80.2200   3/8/2019   \n",
      "2      Home and lifestyle       46.33         7  16.2155  340.5255   3/3/2019   \n",
      "3       Health and beauty       58.22         8  23.2880  489.0480  1/27/2019   \n",
      "4       Sports and travel       86.31         7  30.2085  634.3785   2/8/2019   \n",
      "\n",
      "    Time      Payment    cogs  gross margin percentage  gross income  Rating  \n",
      "0  13:08      Ewallet  522.83                 4.761905       26.1415     9.1  \n",
      "1  10:29         Cash   76.40                 4.761905        3.8200     9.6  \n",
      "2  13:23  Credit card  324.31                 4.761905       16.2155     7.4  \n",
      "3  20:33      Ewallet  465.76                 4.761905       23.2880     8.4  \n",
      "4  10:37      Ewallet  604.17                 4.761905       30.2085     5.3  \n"
     ]
    }
   ],
   "source": [
    "# Read the data\n",
    "\n",
    "df = pd.read_csv('supermarket_sales.csv')\n",
    "print(df.head())"
   ]
  },
  {
   "cell_type": "code",
   "execution_count": 41,
   "metadata": {},
   "outputs": [
    {
     "name": "stdout",
     "output_type": "stream",
     "text": [
      "The number of rows and columns, respectively : (1000, 17)\n",
      "Data types of variables (columns): \n",
      " Invoice ID                  object\n",
      "Branch                      object\n",
      "City                        object\n",
      "Customer type               object\n",
      "Gender                      object\n",
      "Product line                object\n",
      "Unit price                 float64\n",
      "Quantity                     int64\n",
      "Tax 5%                     float64\n",
      "Total                      float64\n",
      "Date                        object\n",
      "Time                        object\n",
      "Payment                     object\n",
      "cogs                       float64\n",
      "gross margin percentage    float64\n",
      "gross income               float64\n",
      "Rating                     float64\n",
      "dtype: object\n"
     ]
    }
   ],
   "source": [
    "# Check data size and data types\n",
    "\n",
    "print(\"The number of rows and columns, respectively :\", df.shape)\n",
    "print(\"Data types of variables (columns): \\n\", df.dtypes)"
   ]
  },
  {
   "cell_type": "code",
   "execution_count": 42,
   "metadata": {},
   "outputs": [
    {
     "name": "stdout",
     "output_type": "stream",
     "text": [
      "Invoice ID                 0\n",
      "Branch                     0\n",
      "City                       0\n",
      "Customer type              0\n",
      "Gender                     0\n",
      "Product line               0\n",
      "Unit price                 0\n",
      "Quantity                   0\n",
      "Tax 5%                     0\n",
      "Total                      0\n",
      "Date                       0\n",
      "Time                       0\n",
      "Payment                    0\n",
      "cogs                       0\n",
      "gross margin percentage    0\n",
      "gross income               0\n",
      "Rating                     0\n",
      "dtype: int64\n"
     ]
    }
   ],
   "source": [
    "# Check if there are missing rows\n",
    "\n",
    "c=df.isnull().sum()\n",
    "print(c)"
   ]
  },
  {
   "cell_type": "code",
   "execution_count": 43,
   "metadata": {},
   "outputs": [],
   "source": [
    "# THE ANALSYS  \n",
    "\n",
    "# SIMPLE REPORTS \n",
    "# Order cities by the number of invoices and total amount.\n",
    "# Order product lines sales by amount and quantity.\n",
    "# Order product lines by purchase from female customers.\n",
    "\n",
    "# STATISTICAL ANALYSIS\n",
    "# Is there a correlation between paymet and total?\n",
    "\n",
    "# AD-HOC ANALYSIS (with visualizations)\n",
    "# Show sales in total by the day of week.\n",
    "# Show sales by the period of the day. \n",
    "# Compare Members vs non-Members sale.\n",
    "# Compara sales by Gender in total.\n",
    "# Compare sales by gender and product line."
   ]
  },
  {
   "cell_type": "code",
   "execution_count": 44,
   "metadata": {},
   "outputs": [
    {
     "name": "stdout",
     "output_type": "stream",
     "text": [
      "\n",
      " Cities ordered by number of invoices: \n",
      " City\n",
      "Yangon       340\n",
      "Mandalay     332\n",
      "Naypyitaw    328\n",
      "Name: Invoice ID, dtype: int64\n",
      "\n",
      " Cities ordered by amount: \n",
      " City\n",
      "Naypyitaw    110568.7065\n",
      "Yangon       106200.3705\n",
      "Mandalay     106197.6720\n",
      "Name: Total, dtype: float64\n"
     ]
    }
   ],
   "source": [
    "# SIMPLE REPORTS \n",
    "\n",
    "# Order cities by the number of invoices and total amount\n",
    "\n",
    "print(\"\\n Cities ordered by number of invoices: \\n\", \n",
    "    df.groupby('City').count()[\"Invoice ID\"].sort_values(ascending=False))\n",
    "\n",
    "print(\"\\n Cities ordered by amount: \\n\", \n",
    "    df.groupby('City').sum()[\"Total\"].sort_values(ascending=False))\n"
   ]
  },
  {
   "cell_type": "code",
   "execution_count": 45,
   "metadata": {},
   "outputs": [
    {
     "name": "stdout",
     "output_type": "stream",
     "text": [
      "\n",
      " Product lines sales ordered by total amount: \n",
      " Product line\n",
      "Food and beverages        56144.8440\n",
      "Sports and travel         55122.8265\n",
      "Electronic accessories    54337.5315\n",
      "Fashion accessories       54305.8950\n",
      "Home and lifestyle        53861.9130\n",
      "Health and beauty         49193.7390\n",
      "Name: Total, dtype: float64\n",
      "\n",
      " Product lines sales ordered by quantity: \n",
      " Product line\n",
      "Electronic accessories    971\n",
      "Food and beverages        952\n",
      "Sports and travel         920\n",
      "Home and lifestyle        911\n",
      "Fashion accessories       902\n",
      "Health and beauty         854\n",
      "Name: Quantity, dtype: int64\n"
     ]
    }
   ],
   "source": [
    "# Order product lines sales by amount and quantity\n",
    "\n",
    "print(\"\\n Product lines sales ordered by total amount: \\n\", \n",
    "    df.groupby('Product line').sum()[\"Total\"].sort_values(ascending=False))\n",
    "\n",
    "print(\"\\n Product lines sales ordered by quantity: \\n\", \n",
    "    df.groupby('Product line').sum()[\"Quantity\"].sort_values(ascending=False))"
   ]
  },
  {
   "cell_type": "code",
   "execution_count": 46,
   "metadata": {},
   "outputs": [
    {
     "name": "stdout",
     "output_type": "stream",
     "text": [
      "             Product line  Gender  Quantity\n",
      "1     Fashion accessories  Female       530\n",
      "2      Food and beverages  Female       514\n",
      "4      Home and lifestyle  Female       498\n",
      "5       Sports and travel  Female       496\n",
      "0  Electronic accessories  Female       488\n",
      "3       Health and beauty  Female       343\n"
     ]
    }
   ],
   "source": [
    "# Order product lines by purchase from female customers\n",
    "\n",
    "df_female = df[df['Gender'] == 'Female']\n",
    "df_female_grouped = df_female.groupby(['Product line', 'Gender'])['Quantity'].sum().reset_index()\n",
    "df_female_grouped = df_female_grouped.sort_values(by='Quantity', ascending=False)\n",
    "print(df_female_grouped)"
   ]
  },
  {
   "cell_type": "code",
   "execution_count": 47,
   "metadata": {},
   "outputs": [],
   "source": [
    "# STATISTICAL ANALASYS\n",
    "\n",
    "# Q: Is there a correlation between payment and total?\n",
    "\n",
    "# H0: Assumption is that variables Payment and Total are NOT correlated\n",
    "\n",
    "# I will use the one-way anova test between Payment and Total\n",
    "# ANOVA test test measures if there are any significant differences \n",
    "# between the means of the values of the numeric variable (Total) for each categorical value (Payment)."
   ]
  },
  {
   "cell_type": "code",
   "execution_count": 48,
   "metadata": {},
   "outputs": [
    {
     "data": {
      "text/plain": [
       "<matplotlib.axes._subplots.AxesSubplot at 0x7fef3db198d0>"
      ]
     },
     "execution_count": 48,
     "metadata": {},
     "output_type": "execute_result"
    },
    {
     "data": {
      "image/png": "[encoded data removed]",
      "text/plain": [
       "<Figure size 432x288 with 1 Axes>"
      ]
     },
     "metadata": {
      "needs_background": "light"
     },
     "output_type": "display_data"
    }
   ],
   "source": [
    "# Plot the observed variables\n",
    "\n",
    "sns.scatterplot(data=df, x='Payment', y='Total')"
   ]
  },
  {
   "cell_type": "code",
   "execution_count": 49,
   "metadata": {},
   "outputs": [
    {
     "data": {
      "text/plain": [
       "<matplotlib.axes._subplots.AxesSubplot at 0x7fef39616310>"
      ]
     },
     "execution_count": 49,
     "metadata": {},
     "output_type": "execute_result"
    },
    {
     "data": {
      "image/png": "[encoded data removed]",
      "text/plain": [
       "<Figure size 432x288 with 1 Axes>"
      ]
     },
     "metadata": {
      "needs_background": "light"
     },
     "output_type": "display_data"
    }
   ],
   "source": [
    "# Plot distribution of values in Total column\n",
    "# ANOVA test assumes normal distribution, but it can tolerate small skewness\n",
    "\n",
    "df['Total'].plot(kind='kde')"
   ]
  },
  {
   "cell_type": "code",
   "execution_count": 50,
   "metadata": {},
   "outputs": [
    {
     "name": "stdout",
     "output_type": "stream",
     "text": [
      "P-Value for Anova is:  0.9221037792354058\n"
     ]
    }
   ],
   "source": [
    "# Finds out the Total data for each Payment as a list\n",
    "\n",
    "GroupedPayment=df.groupby('Payment')['Total'].apply(list)\n",
    " \n",
    "# Performing the ANOVA test\n",
    "# We accept the Assumption(H0) only when P-Value > 0.05\n",
    "\n",
    "AnovaResults = f_oneway(*GroupedPayment)\n",
    "print('P-Value for Anova is: ', AnovaResults[1])"
   ]
  },
  {
   "cell_type": "code",
   "execution_count": 51,
   "metadata": {},
   "outputs": [
    {
     "data": {
      "text/plain": [
       "KruskalResult(statistic=0.3025423293010576, pvalue=0.8596145699680491)"
      ]
     },
     "execution_count": 51,
     "metadata": {},
     "output_type": "execute_result"
    }
   ],
   "source": [
    "# Confirm results with Kruska Wallis test because Total is a bit positively skewed\n",
    "\n",
    "# If P-Valuse > 0.05 we accept the assumption (H0)\n",
    "\n",
    "stats.kruskal(*GroupedPayment)"
   ]
  },
  {
   "cell_type": "code",
   "execution_count": 52,
   "metadata": {},
   "outputs": [
    {
     "data": {
      "image/png": "[encoded data removed]",
      "text/plain": [
       "<Figure size 432x288 with 1 Axes>"
      ]
     },
     "metadata": {
      "needs_background": "light"
     },
     "output_type": "display_data"
    }
   ],
   "source": [
    "# AD-HOC ANALYSIS (with visualizations)\n",
    "\n",
    "# Show purchases by the day of week\n",
    "\n",
    "# Convert the 'Date' column to a datetime object\n",
    "df['Date'] = pd.to_datetime(df['Date'])\n",
    "\n",
    "# Extract the day of the week and add a new column 'Day_of_week'\n",
    "df['Day_of_week'] = df['Date'].dt.dayofweek\n",
    "\n",
    "day_of_week_total = df.groupby('Day_of_week')['Total'].sum()\n",
    "\n",
    "day_of_week_total.plot(kind='bar')\n",
    "plt.xlabel('Day of Week')\n",
    "plt.ylabel('Total Sales')\n",
    "day_labels = ['Monday', 'Tuesday', 'Wednesday', 'Thursday', 'Friday', 'Saturday', 'Sunday']\n",
    "plt.xticks(range(7), day_labels, rotation=45)\n",
    "plt.show()\n"
   ]
  },
  {
   "cell_type": "code",
   "execution_count": 53,
   "metadata": {},
   "outputs": [],
   "source": [
    "# Purchases by the period of the day \n",
    "\n",
    "# Create new column Time of Day\n",
    "\n",
    "def classify_time_of_day(time):\n",
    "    hour = int(time.split(\":\")[0])\n",
    "    if hour < 12:\n",
    "        return \"Morning\"\n",
    "    elif hour < 18:\n",
    "        return \"Afternoon\"\n",
    "    else:\n",
    "        return \"Evening\"\n",
    "\n",
    "df[\"Time_of_Day\"] = df[\"Time\"].apply(classify_time_of_day)\n"
   ]
  },
  {
   "cell_type": "code",
   "execution_count": 54,
   "metadata": {},
   "outputs": [
    {
     "name": "stdout",
     "output_type": "stream",
     "text": [
      "Time_of_Day\n",
      "Afternoon    172468.5585\n",
      "Evening       88699.3800\n",
      "Morning       61798.8105\n",
      "Name: Total, dtype: float64\n"
     ]
    }
   ],
   "source": [
    "# Calculate sales by the time of day\n",
    "\n",
    "sales_by_time_of_day = df.groupby(\"Time_of_Day\").sum()[\"Total\"]\n",
    "print(sales_by_time_of_day)"
   ]
  },
  {
   "cell_type": "code",
   "execution_count": 55,
   "metadata": {},
   "outputs": [
    {
     "data": {
      "image/png": "[encoded data removed]",
      "text/plain": [
       "<Figure size 432x288 with 1 Axes>"
      ]
     },
     "metadata": {
      "needs_background": "light"
     },
     "output_type": "display_data"
    }
   ],
   "source": [
    "# Plot sales by time of day\n",
    "\n",
    "sales_by_time_of_day.plot(kind='bar')\n",
    "plt.xlabel(\" \")\n",
    "plt.ylabel(\"Total Sales\")\n",
    "plt.title(\"Sales by Time of Day\")\n",
    "plt.xticks(rotation=0)\n",
    "plt.show()"
   ]
  },
  {
   "cell_type": "code",
   "execution_count": 56,
   "metadata": {},
   "outputs": [
    {
     "name": "stdout",
     "output_type": "stream",
     "text": [
      "Customer type\n",
      "Member    164223.444\n",
      "Normal    158743.305\n",
      "Name: Total, dtype: float64\n"
     ]
    }
   ],
   "source": [
    "# Compare Members vs non-Members sale\n",
    "\n",
    "members_vs_others = df.groupby(\"Customer type\").sum()[\"Total\"]\n",
    "print(members_vs_others)"
   ]
  },
  {
   "cell_type": "code",
   "execution_count": 57,
   "metadata": {},
   "outputs": [
    {
     "data": {
      "image/png": "[encoded data removed]",
      "text/plain": [
       "<Figure size 432x288 with 1 Axes>"
      ]
     },
     "metadata": {
      "needs_background": "light"
     },
     "output_type": "display_data"
    }
   ],
   "source": [
    "# Plot Members vs non-Members sale\n",
    "\n",
    "members_vs_others.plot(kind='bar')\n",
    "plt.xlabel(\"Customer type\")\n",
    "plt.ylabel(\"Total Sales\")\n",
    "plt.title(\"Members vs non-Members\")\n",
    "plt.xticks(rotation=0)\n",
    "plt.show()"
   ]
  },
  {
   "cell_type": "code",
   "execution_count": 58,
   "metadata": {},
   "outputs": [
    {
     "name": "stdout",
     "output_type": "stream",
     "text": [
      "Gender  Product line          \n",
      "Female  Electronic accessories    27102.0225\n",
      "        Fashion accessories       30437.4000\n",
      "        Food and beverages        33170.9175\n",
      "        Health and beauty         18560.9865\n",
      "        Home and lifestyle        30036.8775\n",
      "        Sports and travel         28574.7210\n",
      "Male    Electronic accessories    27235.5090\n",
      "        Fashion accessories       23868.4950\n",
      "        Food and beverages        22973.9265\n",
      "        Health and beauty         30632.7525\n",
      "        Home and lifestyle        23825.0355\n",
      "        Sports and travel         26548.1055\n",
      "Name: Total, dtype: float64\n"
     ]
    }
   ],
   "source": [
    "# Compare sales by gender and product line\n",
    "\n",
    "sales_by_gender_and_product_line = df.groupby([\"Gender\", \"Product line\"]).sum()[\"Total\"]\n",
    "print(sales_by_gender_and_product_line)"
   ]
  },
  {
   "cell_type": "code",
   "execution_count": 59,
   "metadata": {},
   "outputs": [
    {
     "data": {
      "image/png": "[encoded data removed]",
      "text/plain": [
       "<Figure size 432x288 with 1 Axes>"
      ]
     },
     "metadata": {
      "needs_background": "light"
     },
     "output_type": "display_data"
    }
   ],
   "source": [
    "# Plot sales by gender and product line\n",
    "\n",
    "ax = sales_by_gender_and_product_line.unstack().plot(kind='bar', stacked=True)\n",
    "plt.xlabel(\"Gender\")\n",
    "plt.ylabel(\"Total Sales\")\n",
    "plt.title(\"Sales by Gender and Product Line\")\n",
    "plt.legend(title=\"Product Line\")\n",
    "plt.legend(title=\"Product Line\", loc='center')\n",
    "plt.xticks(rotation=0)\n",
    "plt.show()\n"
   ]
  },
  {
   "cell_type": "code",
   "execution_count": 60,
   "metadata": {},
   "outputs": [
    {
     "name": "stdout",
     "output_type": "stream",
     "text": [
      "Product line\n",
      "Food and beverages        10196.9910\n",
      "Fashion accessories        6568.9050\n",
      "Home and lifestyle         6211.8420\n",
      "Sports and travel          2026.6155\n",
      "Electronic accessories     -133.4865\n",
      "Health and beauty        -12071.7660\n",
      "dtype: float64\n"
     ]
    }
   ],
   "source": [
    "# Group by Gender and Product line (including reset index)\n",
    "\n",
    "grouped = sales_by_gender_and_product_line.reset_index()\n",
    "pivot_table = grouped.pivot(index='Product line', columns='Gender', values='Total')\n",
    "differences = pivot_table['Female'] - pivot_table['Male']\n",
    "differences = differences.sort_values(ascending=False)\n",
    "print(differences)"
   ]
  },
  {
   "cell_type": "code",
   "execution_count": 61,
   "metadata": {},
   "outputs": [
    {
     "data": {
      "image/png": "[encoded data removed]",
      "text/plain": [
       "<Figure size 432x288 with 1 Axes>"
      ]
     },
     "metadata": {
      "needs_background": "light"
     },
     "output_type": "display_data"
    }
   ],
   "source": [
    "# Plot with horizontal bars\n",
    "\n",
    "differences.plot(kind='barh', x='Product line', y='Difference', color='blue', legend=False)\n",
    "plt.xlabel('Difference in Total Sales')\n",
    "plt.title('Difference in Total Sales between Male and Female Customers by Product Line')\n",
    "plt.show()"
   ]
  },
  {
   "cell_type": "code",
   "execution_count": null,
   "metadata": {},
   "outputs": [],
   "source": []
  }
 ],
 "metadata": {
  "kernelspec": {
   "display_name": "base",
   "language": "python",
   "name": "python3"
  },
  "language_info": {
   "codemirror_mode": {
    "name": "ipython",
    "version": 3
   },
   "file_extension": ".py",
   "mimetype": "text/x-python",
   "name": "python",
   "nbconvert_exporter": "python",
   "pygments_lexer": "ipython3",
   "version": "3.7.4"
  },
  "orig_nbformat": 4,
  "vscode": {
   "interpreter": {
    "hash": "f00683e4aeab3b176009d69d425539fbb96e053263f334bbe1717c3f64d5bc5e"
   }
  }
 },
 "nbformat": 4,
 "nbformat_minor": 2
}
