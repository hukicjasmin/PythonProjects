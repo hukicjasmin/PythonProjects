{
 "cells": [
  {
   "cell_type": "code",
   "execution_count": 92,
   "metadata": {},
   "outputs": [],
   "source": [
    "# This is data analysis of the salaries in the field of data science. \n",
    "# I used Data Science Job Salaries dataset that is publicly available on Kaggle:\n",
    "# https://www.kaggle.com/datasets/ruchi798/data-science-job-salaries"
   ]
  },
  {
   "cell_type": "code",
   "execution_count": 93,
   "metadata": {},
   "outputs": [],
   "source": [
    "# Import necessary libraries\n",
    "\n",
    "import pandas as pd\n",
    "import seaborn as sns\n",
    "import matplotlib.pyplot as plt\n"
   ]
  },
  {
   "cell_type": "code",
   "execution_count": 94,
   "metadata": {},
   "outputs": [
    {
     "name": "stdout",
     "output_type": "stream",
     "text": [
      "   work_year experience_level employment_type                  job_title  \\\n",
      "0       2022               MI              FT  Machine Learning Engineer   \n",
      "1       2022               MI              FT  Machine Learning Engineer   \n",
      "2       2022               MI              FT             Data Scientist   \n",
      "3       2022               MI              FT             Data Scientist   \n",
      "4       2022               MI              FT             Data Scientist   \n",
      "\n",
      "   salary salary_currency  salary_in_usd employee_residence  remote_ratio  \\\n",
      "0  130000             USD         130000                 US             0   \n",
      "1   90000             USD          90000                 US             0   \n",
      "2  120000             USD         120000                 US           100   \n",
      "3  100000             USD         100000                 US           100   \n",
      "4   85000             USD          85000                 US           100   \n",
      "\n",
      "  company_location company_size  \n",
      "0               US            M  \n",
      "1               US            M  \n",
      "2               US            M  \n",
      "3               US            M  \n",
      "4               US            M  \n"
     ]
    }
   ],
   "source": [
    "# Read data\n",
    "\n",
    "df = pd.read_csv('salaries.csv')\n",
    "print(df.head())"
   ]
  },
  {
   "cell_type": "code",
   "execution_count": 95,
   "metadata": {},
   "outputs": [
    {
     "name": "stdout",
     "output_type": "stream",
     "text": [
      "Total rows:  1332\n",
      "Total columns:  11\n"
     ]
    }
   ],
   "source": [
    "# INSPECT, CLEAN, AND TRANSFORM DATA\n",
    "\n",
    "# Check data size\n",
    "\n",
    "print('Total rows: ', df.shape[0])\n",
    "print('Total columns: ', df.shape[1])"
   ]
  },
  {
   "cell_type": "code",
   "execution_count": 96,
   "metadata": {},
   "outputs": [
    {
     "name": "stdout",
     "output_type": "stream",
     "text": [
      "work_year              int64\n",
      "experience_level      object\n",
      "employment_type       object\n",
      "job_title             object\n",
      "salary                 int64\n",
      "salary_currency       object\n",
      "salary_in_usd          int64\n",
      "employee_residence    object\n",
      "remote_ratio           int64\n",
      "company_location      object\n",
      "company_size          object\n",
      "dtype: object\n"
     ]
    }
   ],
   "source": [
    "# Chack data types and columns\n",
    "\n",
    "print(df.dtypes)"
   ]
  },
  {
   "cell_type": "code",
   "execution_count": 97,
   "metadata": {},
   "outputs": [
    {
     "name": "stdout",
     "output_type": "stream",
     "text": [
      "work_year             0\n",
      "experience_level      0\n",
      "employment_type       0\n",
      "job_title             0\n",
      "salary                0\n",
      "salary_currency       0\n",
      "salary_in_usd         0\n",
      "employee_residence    0\n",
      "remote_ratio          0\n",
      "company_location      0\n",
      "company_size          0\n",
      "dtype: int64\n"
     ]
    }
   ],
   "source": [
    "# Check if there are missing rows\n",
    "\n",
    "c=df.isnull().sum()\n",
    "print(c)"
   ]
  },
  {
   "cell_type": "code",
   "execution_count": 98,
   "metadata": {},
   "outputs": [
    {
     "name": "stdout",
     "output_type": "stream",
     "text": [
      "Index(['work_year', 'experience_level', 'employment_type', 'job_title',\n",
      "       'salary_in_usd', 'employee_residence', 'company_location',\n",
      "       'company_size'],\n",
      "      dtype='object')\n"
     ]
    }
   ],
   "source": [
    "# Drop unnecessary columns\n",
    "\n",
    "df = df.drop(['salary', 'salary_currency', 'remote_ratio'], axis=1)\n",
    "\n",
    "print(df.columns)\n"
   ]
  },
  {
   "cell_type": "code",
   "execution_count": 99,
   "metadata": {},
   "outputs": [
    {
     "name": "stdout",
     "output_type": "stream",
     "text": [
      "['FT' 'PT' 'CT' 'FL']\n"
     ]
    }
   ],
   "source": [
    "print(df['employment_type'].unique())"
   ]
  },
  {
   "cell_type": "code",
   "execution_count": 100,
   "metadata": {},
   "outputs": [],
   "source": [
    "# Keep only FT (full-time) jobs, and drop 'employment_type' column\n",
    "\n",
    "df = df[~df.employment_type.isin(['PT', 'CT', 'FL'])]\n",
    "df = df.drop(['employment_type'], axis=1)\n",
    "\n"
   ]
  },
  {
   "cell_type": "code",
   "execution_count": 101,
   "metadata": {},
   "outputs": [
    {
     "name": "stdout",
     "output_type": "stream",
     "text": [
      "AxesSubplot(0.125,0.125;0.775x0.755)\n"
     ]
    },
    {
     "data": {
      "image/png": "[encoded data removed]",
      "text/plain": [
       "<Figure size 432x288 with 1 Axes>"
      ]
     },
     "metadata": {
      "needs_background": "light"
     },
     "output_type": "display_data"
    }
   ],
   "source": [
    "# Check if there are outliers\n",
    "\n",
    "print(df.boxplot(column=['salary_in_usd']))"
   ]
  },
  {
   "cell_type": "code",
   "execution_count": 102,
   "metadata": {},
   "outputs": [
    {
     "data": {
      "text/html": [
       "<div>\n",
       "<style scoped>\n",
       "    .dataframe tbody tr th:only-of-type {\n",
       "        vertical-align: middle;\n",
       "    }\n",
       "\n",
       "    .dataframe tbody tr th {\n",
       "        vertical-align: top;\n",
       "    }\n",
       "\n",
       "    .dataframe thead th {\n",
       "        text-align: right;\n",
       "    }\n",
       "</style>\n",
       "<table border=\"1\" class=\"dataframe\">\n",
       "  <thead>\n",
       "    <tr style=\"text-align: right;\">\n",
       "      <th></th>\n",
       "      <th>work_year</th>\n",
       "      <th>experience_level</th>\n",
       "      <th>job_title</th>\n",
       "      <th>salary_in_usd</th>\n",
       "      <th>employee_residence</th>\n",
       "      <th>company_location</th>\n",
       "      <th>company_size</th>\n",
       "    </tr>\n",
       "  </thead>\n",
       "  <tbody>\n",
       "    <tr>\n",
       "      <th>1278</th>\n",
       "      <td>2021</td>\n",
       "      <td>EX</td>\n",
       "      <td>Principal Data Engineer</td>\n",
       "      <td>600000</td>\n",
       "      <td>US</td>\n",
       "      <td>US</td>\n",
       "      <td>L</td>\n",
       "    </tr>\n",
       "  </tbody>\n",
       "</table>\n",
       "</div>"
      ],
      "text/plain": [
       "      work_year experience_level                job_title  salary_in_usd  \\\n",
       "1278       2021               EX  Principal Data Engineer         600000   \n",
       "\n",
       "     employee_residence company_location company_size  \n",
       "1278                 US               US            L  "
      ]
     },
     "execution_count": 102,
     "metadata": {},
     "output_type": "execute_result"
    }
   ],
   "source": [
    "# Get outlier data\n",
    "\n",
    "df[df['salary_in_usd'] > 500000]\n"
   ]
  },
  {
   "cell_type": "code",
   "execution_count": 103,
   "metadata": {},
   "outputs": [],
   "source": [
    "# Drop the outlier\n",
    "\n",
    "df = df.drop(index=(1278))"
   ]
  },
  {
   "cell_type": "code",
   "execution_count": 104,
   "metadata": {},
   "outputs": [
    {
     "name": "stdout",
     "output_type": "stream",
     "text": [
      "AxesSubplot(0.125,0.125;0.775x0.755)\n"
     ]
    },
    {
     "data": {
      "image/png": "[encoded data removed]",
      "text/plain": [
       "<Figure size 432x288 with 1 Axes>"
      ]
     },
     "metadata": {
      "needs_background": "light"
     },
     "output_type": "display_data"
    }
   ],
   "source": [
    "print(df.boxplot(column=['salary_in_usd']))"
   ]
  },
  {
   "cell_type": "code",
   "execution_count": 105,
   "metadata": {},
   "outputs": [
    {
     "name": "stdout",
     "output_type": "stream",
     "text": [
      "work_year             23\n",
      "experience_level      23\n",
      "job_title             23\n",
      "salary_in_usd         23\n",
      "employee_residence    23\n",
      "company_location      23\n",
      "company_size          23\n",
      "dtype: int64\n",
      "work_year             23\n",
      "experience_level      23\n",
      "job_title             23\n",
      "salary_in_usd         23\n",
      "employee_residence    23\n",
      "company_location      23\n",
      "company_size          23\n",
      "dtype: int64\n"
     ]
    }
   ],
   "source": [
    "print(df[df['salary_in_usd'] < 10000].count())\n",
    "print(df[df['salary_in_usd'] > 250000].count())\n"
   ]
  },
  {
   "cell_type": "code",
   "execution_count": 106,
   "metadata": {},
   "outputs": [],
   "source": [
    "# Drop the outliers on both sides\n",
    "\n",
    "df = df.drop(df[df.salary_in_usd < 10000].index)\n",
    "df = df.drop(df[df.salary_in_usd > 250000].index)\n"
   ]
  },
  {
   "cell_type": "code",
   "execution_count": 107,
   "metadata": {},
   "outputs": [
    {
     "name": "stdout",
     "output_type": "stream",
     "text": [
      "['Machine Learning Engineer' 'Data Scientist' 'Data Engineer'\n",
      " 'Head of Data' 'Data Analyst' 'BI Analyst' 'Analytics Engineer'\n",
      " 'Research Engineer' 'Data Operations Analyst' 'ML Engineer'\n",
      " 'Data Architect' 'Data Operations Engineer' 'Marketing Data Analyst'\n",
      " 'Data Science Lead' 'Data Science Consultant' 'Data Manager'\n",
      " 'BI Data Analyst' 'Big Data Engineer' 'Principal Data Architect'\n",
      " 'Machine Learning Manager' 'Applied Scientist' 'Lead Data Scientist'\n",
      " 'Lead Machine Learning Engineer' 'Research Scientist'\n",
      " 'Data Analytics Engineer' 'ETL Developer' 'AI Scientist'\n",
      " 'Data Scientist Lead' 'Data Science Manager' 'Data Specialist'\n",
      " 'Business Data Analyst' 'Applied Machine Learning Scientist'\n",
      " 'Machine Learning Research Engineer' 'Machine Learning Scientist'\n",
      " 'Machine Learning Developer' 'Data Engineering Manager'\n",
      " 'Director of Data Science' 'Financial Data Analyst'\n",
      " 'Data Analytics Consultant' 'Product Data Analyst'\n",
      " 'Machine Learning Infrastructure Engineer' 'Applied Data Scientist'\n",
      " 'Cloud Data Architect' 'Data Analytics Manager' 'Lead Data Engineer'\n",
      " 'Head of Machine Learning' 'Data Science Engineer' 'Head of Data Science'\n",
      " 'NLP Engineer' 'Computer Vision Engineer' 'Principal Data Analyst'\n",
      " 'Principal Data Scientist' 'Computer Vision Software Engineer'\n",
      " 'Principal Data Engineer' 'Lead Data Analyst'\n",
      " 'Director of Data Engineering' 'Cloud Data Engineer' 'Big Data Architect'\n",
      " 'Finance Data Analyst']\n"
     ]
    }
   ],
   "source": [
    "# Check the job titles\n",
    "\n",
    "print(df['job_title'].unique())"
   ]
  },
  {
   "cell_type": "code",
   "execution_count": 108,
   "metadata": {},
   "outputs": [
    {
     "data": {
      "text/plain": [
       "role\n",
       "analyst       213\n",
       "architect      37\n",
       "consultant      9\n",
       "developer      15\n",
       "director        9\n",
       "engineer      491\n",
       "head           12\n",
       "lead           19\n",
       "manager        48\n",
       "principal      11\n",
       "scientist     389\n",
       "specialist      6\n",
       "dtype: int64"
      ]
     },
     "execution_count": 108,
     "metadata": {},
     "output_type": "execute_result"
    }
   ],
   "source": [
    "# Define a function to extract relevant keywords from job titles and aply to column role\n",
    "\n",
    "def extract_keywords(title):\n",
    "    titles = ['principal', 'director', 'head', 'manager', 'lead',\n",
    "              'engineer', 'scientist', 'analyst', 'architect', \n",
    "              'developer', 'consultant', 'specialist']\n",
    "\n",
    "    for title_keyword in titles:\n",
    "        if title_keyword in title.lower():\n",
    "            return title_keyword\n",
    "    return 'other'\n",
    "\n",
    "df['role'] = df['job_title'].apply(extract_keywords)\n",
    "df.groupby(\"role\").size()"
   ]
  },
  {
   "cell_type": "code",
   "execution_count": 109,
   "metadata": {},
   "outputs": [
    {
     "name": "stdout",
     "output_type": "stream",
     "text": [
      "Empty DataFrame\n",
      "Columns: [work_year, experience_level, job_title, salary_in_usd, employee_residence, company_location, company_size, role]\n",
      "Index: []\n"
     ]
    }
   ],
   "source": [
    "# Check role - other\n",
    "\n",
    "print(df[df['role']== \"other\"])"
   ]
  },
  {
   "cell_type": "code",
   "execution_count": 110,
   "metadata": {},
   "outputs": [
    {
     "name": "stdout",
     "output_type": "stream",
     "text": [
      "role\n",
      "principal     159302.818182\n",
      "architect     158690.702703\n",
      "director      156486.444444\n",
      "manager       154834.500000\n",
      "head          152355.583333\n",
      "specialist    134166.666667\n",
      "scientist     125390.912596\n",
      "engineer      124219.576375\n",
      "developer     117634.666667\n",
      "lead          106796.842105\n",
      "analyst        97733.272300\n",
      "consultant     94915.333333\n",
      "Name: salary_in_usd, dtype: float64\n"
     ]
    }
   ],
   "source": [
    "# Calculate average salaries by job role \n",
    "\n",
    "avg_salary = df.groupby(['role'])['salary_in_usd'].mean()\n",
    "avg_salary.sort_values(ascending=False, inplace=True)\n",
    "\n",
    "print(avg_salary)"
   ]
  },
  {
   "cell_type": "code",
   "execution_count": 111,
   "metadata": {},
   "outputs": [
    {
     "data": {
      "text/html": [
       "<div>\n",
       "<style scoped>\n",
       "    .dataframe tbody tr th:only-of-type {\n",
       "        vertical-align: middle;\n",
       "    }\n",
       "\n",
       "    .dataframe tbody tr th {\n",
       "        vertical-align: top;\n",
       "    }\n",
       "\n",
       "    .dataframe thead th {\n",
       "        text-align: right;\n",
       "    }\n",
       "</style>\n",
       "<table border=\"1\" class=\"dataframe\">\n",
       "  <thead>\n",
       "    <tr style=\"text-align: right;\">\n",
       "      <th></th>\n",
       "      <th>work_year</th>\n",
       "      <th>experience_level</th>\n",
       "      <th>job_title</th>\n",
       "      <th>salary_in_usd</th>\n",
       "      <th>employee_residence</th>\n",
       "      <th>company_location</th>\n",
       "      <th>company_size</th>\n",
       "      <th>role</th>\n",
       "    </tr>\n",
       "  </thead>\n",
       "  <tbody>\n",
       "    <tr>\n",
       "      <th>work_year</th>\n",
       "      <td>1.000000</td>\n",
       "      <td>0.077649</td>\n",
       "      <td>0.228291</td>\n",
       "      <td>0.463504</td>\n",
       "      <td>0.361548</td>\n",
       "      <td>0.341213</td>\n",
       "      <td>0.485826</td>\n",
       "      <td>0.101955</td>\n",
       "    </tr>\n",
       "    <tr>\n",
       "      <th>experience_level</th>\n",
       "      <td>0.077649</td>\n",
       "      <td>1.000000</td>\n",
       "      <td>0.048213</td>\n",
       "      <td>-0.015416</td>\n",
       "      <td>0.016771</td>\n",
       "      <td>0.022350</td>\n",
       "      <td>0.137793</td>\n",
       "      <td>0.045694</td>\n",
       "    </tr>\n",
       "    <tr>\n",
       "      <th>job_title</th>\n",
       "      <td>0.228291</td>\n",
       "      <td>0.048213</td>\n",
       "      <td>1.000000</td>\n",
       "      <td>0.166797</td>\n",
       "      <td>0.125423</td>\n",
       "      <td>0.113566</td>\n",
       "      <td>0.204024</td>\n",
       "      <td>0.564331</td>\n",
       "    </tr>\n",
       "    <tr>\n",
       "      <th>salary_in_usd</th>\n",
       "      <td>0.463504</td>\n",
       "      <td>-0.015416</td>\n",
       "      <td>0.166797</td>\n",
       "      <td>1.000000</td>\n",
       "      <td>0.356781</td>\n",
       "      <td>0.354952</td>\n",
       "      <td>0.256262</td>\n",
       "      <td>0.098384</td>\n",
       "    </tr>\n",
       "    <tr>\n",
       "      <th>employee_residence</th>\n",
       "      <td>0.361548</td>\n",
       "      <td>0.016771</td>\n",
       "      <td>0.125423</td>\n",
       "      <td>0.356781</td>\n",
       "      <td>1.000000</td>\n",
       "      <td>0.826924</td>\n",
       "      <td>0.367817</td>\n",
       "      <td>-0.001494</td>\n",
       "    </tr>\n",
       "    <tr>\n",
       "      <th>company_location</th>\n",
       "      <td>0.341213</td>\n",
       "      <td>0.022350</td>\n",
       "      <td>0.113566</td>\n",
       "      <td>0.354952</td>\n",
       "      <td>0.826924</td>\n",
       "      <td>1.000000</td>\n",
       "      <td>0.317072</td>\n",
       "      <td>0.008930</td>\n",
       "    </tr>\n",
       "    <tr>\n",
       "      <th>company_size</th>\n",
       "      <td>0.485826</td>\n",
       "      <td>0.137793</td>\n",
       "      <td>0.204024</td>\n",
       "      <td>0.256262</td>\n",
       "      <td>0.367817</td>\n",
       "      <td>0.317072</td>\n",
       "      <td>1.000000</td>\n",
       "      <td>0.086053</td>\n",
       "    </tr>\n",
       "    <tr>\n",
       "      <th>role</th>\n",
       "      <td>0.101955</td>\n",
       "      <td>0.045694</td>\n",
       "      <td>0.564331</td>\n",
       "      <td>0.098384</td>\n",
       "      <td>-0.001494</td>\n",
       "      <td>0.008930</td>\n",
       "      <td>0.086053</td>\n",
       "      <td>1.000000</td>\n",
       "    </tr>\n",
       "  </tbody>\n",
       "</table>\n",
       "</div>"
      ],
      "text/plain": [
       "                    work_year  experience_level  job_title  salary_in_usd  \\\n",
       "work_year            1.000000          0.077649   0.228291       0.463504   \n",
       "experience_level     0.077649          1.000000   0.048213      -0.015416   \n",
       "job_title            0.228291          0.048213   1.000000       0.166797   \n",
       "salary_in_usd        0.463504         -0.015416   0.166797       1.000000   \n",
       "employee_residence   0.361548          0.016771   0.125423       0.356781   \n",
       "company_location     0.341213          0.022350   0.113566       0.354952   \n",
       "company_size         0.485826          0.137793   0.204024       0.256262   \n",
       "role                 0.101955          0.045694   0.564331       0.098384   \n",
       "\n",
       "                    employee_residence  company_location  company_size  \\\n",
       "work_year                     0.361548          0.341213      0.485826   \n",
       "experience_level              0.016771          0.022350      0.137793   \n",
       "job_title                     0.125423          0.113566      0.204024   \n",
       "salary_in_usd                 0.356781          0.354952      0.256262   \n",
       "employee_residence            1.000000          0.826924      0.367817   \n",
       "company_location              0.826924          1.000000      0.317072   \n",
       "company_size                  0.367817          0.317072      1.000000   \n",
       "role                         -0.001494          0.008930      0.086053   \n",
       "\n",
       "                        role  \n",
       "work_year           0.101955  \n",
       "experience_level    0.045694  \n",
       "job_title           0.564331  \n",
       "salary_in_usd       0.098384  \n",
       "employee_residence -0.001494  \n",
       "company_location    0.008930  \n",
       "company_size        0.086053  \n",
       "role                1.000000  "
      ]
     },
     "execution_count": 111,
     "metadata": {},
     "output_type": "execute_result"
    }
   ],
   "source": [
    "# Correlation matrix with using factorize to assign a random numeric value for each unique categorical value\n",
    "\n",
    "df.apply(lambda x: x.factorize()[0]).corr(method='pearson')"
   ]
  },
  {
   "cell_type": "code",
   "execution_count": 112,
   "metadata": {},
   "outputs": [
    {
     "data": {
      "image/png": "[encoded data removed]",
      "text/plain": [
       "<Figure size 432x288 with 2 Axes>"
      ]
     },
     "metadata": {
      "needs_background": "light"
     },
     "output_type": "display_data"
    }
   ],
   "source": [
    "# Plot correlation matrix\n",
    "\n",
    "correlation_matrix = df.apply(lambda x: x.factorize()[0]).corr(method='pearson')\n",
    "sns.heatmap(correlation_matrix, annot = True)\n",
    "plt.title(\"Correlation matrix for Salaries\")\n",
    "plt.xlabel(\"Salary features\")\n",
    "plt.ylabel(\"Salary features\")\n",
    "plt.show()"
   ]
  },
  {
   "cell_type": "code",
   "execution_count": 113,
   "metadata": {},
   "outputs": [
    {
     "data": {
      "image/png": "[encoded data removed]",
      "text/plain": [
       "<Figure size 432x288 with 1 Axes>"
      ]
     },
     "metadata": {
      "needs_background": "light"
     },
     "output_type": "display_data"
    }
   ],
   "source": [
    "# Plot salary_in_usd and role\n",
    "\n",
    "plt.scatter(x=df['salary_in_usd'], y=df['role'], alpha=0.5)\n",
    "plt.show()"
   ]
  },
  {
   "cell_type": "code",
   "execution_count": 114,
   "metadata": {},
   "outputs": [
    {
     "name": "stdout",
     "output_type": "stream",
     "text": [
      "company_location\n",
      "US    902\n",
      "GB     87\n",
      "CA     39\n",
      "DE     33\n",
      "ES     27\n",
      "IN     25\n",
      "FR     19\n",
      "GR     13\n",
      "BR     11\n",
      "AU      9\n",
      "PT      9\n",
      "NL      8\n",
      "JP      5\n",
      "AT      5\n",
      "TR      5\n",
      "PL      4\n",
      "BE      4\n",
      "PR      4\n",
      "LU      3\n",
      "AE      3\n",
      "Name: company_location, dtype: int64\n"
     ]
    }
   ],
   "source": [
    "# Count company locations\n",
    "\n",
    "grouped_location = df.groupby(['company_location'])\n",
    "location_count = grouped_location['company_location'].count()\n",
    "location_count.sort_values(ascending=False, inplace=True)\n",
    "\n",
    "print(location_count.head(20))"
   ]
  },
  {
   "cell_type": "code",
   "execution_count": 115,
   "metadata": {},
   "outputs": [
    {
     "name": "stdout",
     "output_type": "stream",
     "text": [
      "['US' 'ES' 'GB' 'FR' 'CA' 'BR' 'IN' 'DE' 'GR']\n"
     ]
    }
   ],
   "source": [
    "# Drop rows where countries count is less than 10 \n",
    "\n",
    "location_count = location_count.loc[location_count >= 10]\n",
    "countries = list(location_count.index)\n",
    "df = df[df.company_location.isin(countries)]\n",
    "print(df['company_location'].unique())"
   ]
  },
  {
   "cell_type": "code",
   "execution_count": 116,
   "metadata": {},
   "outputs": [
    {
     "data": {
      "image/png": "[encoded data removed]",
      "text/plain": [
       "<Figure size 432x288 with 1 Axes>"
      ]
     },
     "metadata": {
      "needs_background": "light"
     },
     "output_type": "display_data"
    }
   ],
   "source": [
    "plt.scatter(x=df['company_location'], y=df['salary_in_usd'], alpha=0.5)\n",
    "plt.show()"
   ]
  },
  {
   "cell_type": "code",
   "execution_count": 128,
   "metadata": {},
   "outputs": [
    {
     "data": {
      "image/png": "[encoded data removed]",
      "text/plain": [
       "<Figure size 432x288 with 1 Axes>"
      ]
     },
     "metadata": {
      "needs_background": "light"
     },
     "output_type": "display_data"
    }
   ],
   "source": [
    "# Plot average salaries for every role by country\n",
    "\n",
    "grouped = df.groupby(['company_location', 'role']).mean().reset_index()\n",
    "\n",
    "pivot_table = grouped.pivot(index='company_location', columns='role', values='salary_in_usd')\n",
    "\n",
    "pivot_table.plot(kind='bar', stacked=True, legend=False)\n",
    "plt.xlabel('Company Location')\n",
    "plt.ylabel('Average Salary in USD')\n",
    "plt.show()"
   ]
  },
  {
   "cell_type": "code",
   "execution_count": 131,
   "metadata": {},
   "outputs": [
    {
     "name": "stdout",
     "output_type": "stream",
     "text": [
      "role                    analyst      architect  consultant      developer  \\\n",
      "company_location                                                            \n",
      "BR                 63000.000000       0.000000         0.0       0.000000   \n",
      "CA                 80302.900000  127601.000000         0.0   77382.000000   \n",
      "DE                 57184.000000       0.000000     72499.0       0.000000   \n",
      "ES                 41982.625000       0.000000     69741.0       0.000000   \n",
      "FR                 44762.666667       0.000000         0.0       0.000000   \n",
      "GB                 72668.222222       0.000000         0.0       0.000000   \n",
      "GR                 31233.333333       0.000000         0.0   52643.000000   \n",
      "IN                 17959.000000       0.000000         0.0       0.000000   \n",
      "US                110348.192547  161433.911765    113400.0  154385.555556   \n",
      "\n",
      "role              director       engineer           head           lead  \\\n",
      "company_location                                                          \n",
      "BR                     0.0   48151.166667       0.000000       0.000000   \n",
      "CA                193455.0  145777.875000       0.000000  116073.000000   \n",
      "DE                135936.0   67662.555556       0.000000   84229.000000   \n",
      "ES                     0.0   67670.428571       0.000000       0.000000   \n",
      "FR                 57908.0   51805.666667       0.000000       0.000000   \n",
      "GB                113476.0   81908.092593       0.000000   82543.500000   \n",
      "GR                     0.0   64312.375000       0.000000       0.000000   \n",
      "IN                     0.0   24066.800000   76967.000000   52129.333333   \n",
      "US                225000.0  146374.011628  185982.142857  145983.500000   \n",
      "\n",
      "role                    manager      principal      scientist     specialist  \n",
      "company_location                                                              \n",
      "BR                     0.000000       0.000000   50300.333333       0.000000  \n",
      "CA                122005.000000   75000.000000   98877.000000       0.000000  \n",
      "DE                 59303.000000  159282.666667   73743.833333       0.000000  \n",
      "ES                 79833.000000       0.000000   41214.600000       0.000000  \n",
      "FR                152000.000000       0.000000   54499.000000       0.000000  \n",
      "GB                     0.000000       0.000000   87572.428571       0.000000  \n",
      "GR                     0.000000       0.000000       0.000000       0.000000  \n",
      "IN                 94665.000000   38483.000000   27647.375000       0.000000  \n",
      "US                162621.390244  193500.000000  149037.989247  134166.666667  \n"
     ]
    }
   ],
   "source": [
    "# Replace NaN in pivot table\n",
    "\n",
    "pivot_table = pivot_table.fillna(0)\n",
    "print(pivot_table)"
   ]
  },
  {
   "cell_type": "code",
   "execution_count": 135,
   "metadata": {},
   "outputs": [
    {
     "data": {
      "image/png": "[encoded data removed]",
      "text/plain": [
       "<Figure size 432x288 with 1 Axes>"
      ]
     },
     "metadata": {
      "needs_background": "light"
     },
     "output_type": "display_data"
    }
   ],
   "source": [
    "# Plot avg salaries for roles that are present in observed countries\n",
    "\n",
    "pivot_table = pivot_table.loc[:, (pivot_table != 0).all()]\n",
    "pivot_table.plot(kind='line', stacked=False)\n",
    "plt.xlabel('Company Location')\n",
    "plt.ylabel('Average Salary in USD')\n",
    "plt.show()\n"
   ]
  },
  {
   "cell_type": "code",
   "execution_count": null,
   "metadata": {},
   "outputs": [],
   "source": []
  }
 ],
 "metadata": {
  "interpreter": {
   "hash": "f00683e4aeab3b176009d69d425539fbb96e053263f334bbe1717c3f64d5bc5e"
  },
  "kernelspec": {
   "display_name": "Python 3.7.4 ('base')",
   "language": "python",
   "name": "python3"
  },
  "language_info": {
   "codemirror_mode": {
    "name": "ipython",
    "version": 3
   },
   "file_extension": ".py",
   "mimetype": "text/x-python",
   "name": "python",
   "nbconvert_exporter": "python",
   "pygments_lexer": "ipython3",
   "version": "3.7.4"
  },
  "orig_nbformat": 4
 },
 "nbformat": 4,
 "nbformat_minor": 2
}
