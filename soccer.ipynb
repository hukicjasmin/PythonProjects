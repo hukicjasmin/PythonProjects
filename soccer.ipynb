{
 "cells": [
  {
   "cell_type": "code",
   "execution_count": null,
   "metadata": {},
   "outputs": [],
   "source": [
    "import pandas as pd\n",
    "import numpy as np \n",
    "import plotly.express as px"
   ]
  },
  {
   "cell_type": "code",
   "execution_count": null,
   "metadata": {},
   "outputs": [],
   "source": [
    "# Read data \n",
    "\n",
    "df = pd.read_csv(\"soccer_results_02_21.csv\")\n",
    "print(df.head())"
   ]
  },
  {
   "cell_type": "code",
   "execution_count": null,
   "metadata": {},
   "outputs": [],
   "source": [
    "# Check the size of the dataset\n",
    "\n",
    "print(\"Total results: \", df.shape[0]) # rows\n",
    "print(\"Total categories: \", df.shape[1]) # columns (categories)"
   ]
  },
  {
   "cell_type": "code",
   "execution_count": null,
   "metadata": {},
   "outputs": [],
   "source": [
    "# Check the categories and their data types\n",
    "\n",
    "print(df.dtypes)"
   ]
  },
  {
   "cell_type": "code",
   "execution_count": null,
   "metadata": {},
   "outputs": [],
   "source": [
    "# Drop AET columns (I only want to have league games)\n",
    "\n",
    "df = df.drop(['Home_Score_AET', 'Away_Score_AET'], axis=1)"
   ]
  },
  {
   "cell_type": "code",
   "execution_count": null,
   "metadata": {},
   "outputs": [],
   "source": [
    "# Check if Competition include only league games \n",
    "\n",
    "print(df['Competition'].unique())"
   ]
  },
  {
   "cell_type": "code",
   "execution_count": null,
   "metadata": {},
   "outputs": [],
   "source": [
    "# Drop competitions that are not national leagues\n",
    "\n",
    "df = df[df.Competition != 'fa-cup']\n",
    "df = df[df.Competition != 'uefa-europa-league']\n",
    "df = df[df.Competition != 'uefa-champions-league']\n",
    "\n",
    "# Alternative ways\n",
    "\n",
    "# df = df[~df['Competition'].isin(['fa-cup', 'uefa-europa-league', 'uefa-champions-league'])]\n",
    "# df = df.query(\"Competition not in ['fa-cup', 'uefa-europa-league', 'uefa-champions-league']\")"
   ]
  },
  {
   "cell_type": "code",
   "execution_count": null,
   "metadata": {},
   "outputs": [],
   "source": [
    "# Check if it includes season 2022 \n",
    "\n",
    "print(df['season'].unique())"
   ]
  },
  {
   "cell_type": "code",
   "execution_count": null,
   "metadata": {},
   "outputs": [],
   "source": [
    "# Drop season 2022 because it's incomplete\n",
    "\n",
    "df = df[df.season != 2022]"
   ]
  },
  {
   "cell_type": "code",
   "execution_count": null,
   "metadata": {},
   "outputs": [],
   "source": [
    "# Rearange columns \n",
    "\n",
    "df = df[['season', 'Country', 'Competition', 'Round', 'Date', 'Time', 'Home_Team', 'Home_Score', \n",
    "'Away_Score','Away_Team', 'Home_Penalties', 'Away_Penalties', 'Home_Points', 'Away_Points']]\n",
    "\n",
    "print(df.columns)"
   ]
  },
  {
   "cell_type": "code",
   "execution_count": null,
   "metadata": {},
   "outputs": [],
   "source": [
    "# Fill Nan's and convert points, scores, and penalties to integer\n",
    "\n",
    "columns_to_fill = ['Home_Points', 'Away_Points', 'Home_Score', 'Away_Score', \n",
    "                   'Home_Penalties', 'Away_Penalties']\n",
    "\n",
    "for col in columns_to_fill:\n",
    "    df[col] = df[col].fillna(0).astype(int)\n",
    "\n",
    "print(df.dtypes)"
   ]
  },
  {
   "cell_type": "code",
   "execution_count": null,
   "metadata": {},
   "outputs": [],
   "source": [
    "# Check missing rows in columns\n",
    "\n",
    "c=df.isnull().sum()\n",
    "print(c)"
   ]
  },
  {
   "cell_type": "code",
   "execution_count": null,
   "metadata": {},
   "outputs": [],
   "source": [
    "# Create new columns - Home_Win, Draw, and Away_Win and set the values\n",
    "\n",
    "df['Home_Win'] = np.where(df['Home_Points'] == 3, True, False)\n",
    "df['Draw'] = np.where(df['Home_Points'] == 1, True, False)\n",
    "df['Away_Win'] = np.where(df['Away_Points'] == 3, True, False)\n",
    "\n",
    "# Check if it's correct\n",
    "\n",
    "print(df.head())"
   ]
  },
  {
   "cell_type": "code",
   "execution_count": null,
   "metadata": {},
   "outputs": [],
   "source": [
    "# Find the team with the most home wins\n",
    "\n",
    "grouped_h = df.groupby('Home_Team')\n",
    "home_wins = grouped_h['Home_Win'].sum()\n",
    "home_wins.sort_values(ascending=False, inplace=True)\n",
    "\n",
    "print(home_wins)\n"
   ]
  },
  {
   "cell_type": "code",
   "execution_count": null,
   "metadata": {},
   "outputs": [],
   "source": [
    "# Find the team with the most away wins\n",
    "\n",
    "grouped_a = df.groupby('Away_Team')\n",
    "away_wins = grouped_a['Away_Win'].sum()\n",
    "away_wins.sort_values(ascending=False, inplace=True)\n",
    "\n",
    "print(away_wins)"
   ]
  },
  {
   "cell_type": "code",
   "execution_count": null,
   "metadata": {},
   "outputs": [],
   "source": [
    "# Find the team with the most wins in total\n",
    "\n",
    "total_wins = home_wins.add(away_wins, fill_value=0)\n",
    "total_wins.sort_values(ascending=False, inplace=True)\n",
    "\n",
    "print(total_wins.head(10))"
   ]
  },
  {
   "cell_type": "code",
   "execution_count": null,
   "metadata": {},
   "outputs": [],
   "source": [
    "# Find teams that scored most goals\n",
    "\n",
    "home_score = grouped_h['Home_Score'].sum()\n",
    "away_score = grouped_a['Away_Score'].sum()\n",
    "\n",
    "total_score = home_score.add(away_score, fill_value=0)\n",
    "total_score.sort_values(ascending=False, inplace=True)\n",
    "\n",
    "print(total_score.head(10))"
   ]
  },
  {
   "cell_type": "code",
   "execution_count": null,
   "metadata": {},
   "outputs": [],
   "source": [
    "# Create function to count the percentage of home wins, draws and away wins \n",
    "\n",
    "def calculate_percentage(group):\n",
    "    total_games = len(group)\n",
    "    home_wins = group['Home_Win'].eq(True).sum()\n",
    "    draws = group['Draw'].eq(True).sum()\n",
    "    away_wins = group['Away_Win'].eq(True).sum()\n",
    "    \n",
    "    home_wins_percentage = (home_wins / total_games) * 100\n",
    "    draws_percentage = (draws / total_games) * 100\n",
    "    away_wins_percentage = (away_wins / total_games) * 100\n",
    "    \n",
    "    return pd.Series({'Home Wins': home_wins_percentage,\n",
    "                      'Draws': draws_percentage,\n",
    "                      'Away Wins': away_wins_percentage})"
   ]
  },
  {
   "cell_type": "code",
   "execution_count": null,
   "metadata": {},
   "outputs": [],
   "source": [
    "# Grup by season and apply percentage function\n",
    "\n",
    "per_season = df.groupby('season')\n",
    "per_season = per_season.apply(calculate_percentage)\n",
    "per_season.reset_index(level=['season'], inplace=True)\n",
    "\n",
    "print(per_season)"
   ]
  },
  {
   "cell_type": "code",
   "execution_count": null,
   "metadata": {},
   "outputs": [],
   "source": [
    "# Plot bar chart to compare seasons\n",
    "\n",
    "fig = px.bar(per_season, x='season', y=[\"Home Wins\", \"Draws\", \"Away Wins\"], \n",
    "            title=\"Home Wins, Draws, and Away Wins from 2002 - 2021 by Season\")\n",
    "fig.show()"
   ]
  },
  {
   "cell_type": "code",
   "execution_count": null,
   "metadata": {},
   "outputs": [],
   "source": [
    "# Plot line graph to see trends\n",
    "\n",
    "fig = px.line(per_season, x=\"season\", y=[\"Home Wins\", \"Draws\", \"Away Wins\"],\n",
    "              title=\"Home Wins, Draws, and Away Wins from 2002 - 2021 by Season\")\n",
    "fig.show()"
   ]
  },
  {
   "cell_type": "code",
   "execution_count": null,
   "metadata": {},
   "outputs": [],
   "source": [
    "# Group by competition and apply percentages\n",
    "\n",
    "per_comp = df.groupby(['Competition']) \n",
    "per_comp = per_comp.apply(calculate_percentage) \n",
    "per_comp.reset_index(level=['Competition'], inplace=True)\n",
    "\n",
    "print(per_comp)"
   ]
  },
  {
   "cell_type": "code",
   "execution_count": null,
   "metadata": {},
   "outputs": [],
   "source": [
    "# Plot bar to compare national leagues\n",
    "\n",
    "fig = px.bar(per_comp, x='Competition', y=[\"Home Wins\", \"Draws\", \"Away Wins\"], \n",
    "            title=\"Home Wins, Draws, and Away Wins from 2002 - 2021 by Competition\")\n",
    "fig.show()"
   ]
  },
  {
   "cell_type": "code",
   "execution_count": null,
   "metadata": {},
   "outputs": [],
   "source": [
    "# df_grouped = df.groupby(['season', 'Competition']) # create new data frame grouped by season and comp.\n",
    "# df_grouped = df_grouped.apply(calculate_percentage)  # apply percentage function\n",
    "# df_grouped.reset_index(level=['season', 'Competition'], inplace=True)\n"
   ]
  },
  {
   "cell_type": "code",
   "execution_count": null,
   "metadata": {},
   "outputs": [],
   "source": []
  }
 ],
 "metadata": {
  "interpreter": {
   "hash": "f00683e4aeab3b176009d69d425539fbb96e053263f334bbe1717c3f64d5bc5e"
  },
  "kernelspec": {
   "display_name": "Python 3.7.4 ('base')",
   "language": "python",
   "name": "python3"
  },
  "language_info": {
   "codemirror_mode": {
    "name": "ipython",
    "version": 3
   },
   "file_extension": ".py",
   "mimetype": "text/x-python",
   "name": "python",
   "nbconvert_exporter": "python",
   "pygments_lexer": "ipython3",
   "version": "3.7.4"
  },
  "orig_nbformat": 4
 },
 "nbformat": 4,
 "nbformat_minor": 2
}
